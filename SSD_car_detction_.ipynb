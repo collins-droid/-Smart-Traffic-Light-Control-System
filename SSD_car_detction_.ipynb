{
  "cells": [
    {
      "cell_type": "markdown",
      "metadata": {
        "id": "view-in-github",
        "colab_type": "text"
      },
      "source": [
        "<a href=\"https://colab.research.google.com/github/collins-droid/-Smart-Traffic-Light-Control-System/blob/main/SSD_car_detction_.ipynb\" target=\"_parent\"><img src=\"https://colab.research.google.com/assets/colab-badge.svg\" alt=\"Open In Colab\"/></a>"
      ]
    },
    {
      "cell_type": "code",
      "execution_count": 28,
      "metadata": {
        "id": "JLcvd2VRujgf"
      },
      "outputs": [],
      "source": [
        "!cd /content/drive/MyDrive/jetson-train-main\n"
      ]
    },
    {
      "cell_type": "code",
      "execution_count": 29,
      "metadata": {
        "id": "dwYm8_DUwOLo"
      },
      "outputs": [],
      "source": [
        "import os\n",
        "os.chdir('/content/drive/MyDrive/jetson-train-main')\n"
      ]
    },
    {
      "cell_type": "code",
      "execution_count": 30,
      "metadata": {
        "colab": {
          "base_uri": "https://localhost:8080/"
        },
        "id": "r2TboEPKxXwy",
        "outputId": "3ec5f4fa-916f-4194-d569-379914478b96"
      },
      "outputs": [
        {
          "output_type": "stream",
          "name": "stdout",
          "text": [
            "/content/drive/MyDrive/jetson-train-main\n"
          ]
        }
      ],
      "source": [
        "!pwd"
      ]
    },
    {
      "cell_type": "code",
      "execution_count": null,
      "metadata": {
        "colab": {
          "base_uri": "https://localhost:8080/"
        },
        "id": "ehkzSUktzeuZ",
        "outputId": "c81c03c2-44c8-4b84-b188-f15815ecd7c6"
      },
      "outputs": [
        {
          "name": "stdout",
          "output_type": "stream",
          "text": [
            "python3: can't open file '/content/drive/MyDrive/jetson-train-main/train_ssd.py': [Errno 2] No such file or directory\n"
          ]
        }
      ],
      "source": [
        "!sudo python train_ssd.py --dataset-type=voc --data=data/toys/ --model-dir=models/mobilenet-v1-ssd-mp --batch-size=2 --workers=5 --epochs=500\n"
      ]
    },
    {
      "cell_type": "code",
      "execution_count": null,
      "metadata": {
        "id": "IcygEzvQrWHl"
      },
      "outputs": [],
      "source": []
    },
    {
      "cell_type": "code",
      "execution_count": 31,
      "metadata": {
        "colab": {
          "base_uri": "https://localhost:8080/"
        },
        "id": "g61Oqejpq92m",
        "outputId": "ada6a9ce-5818-4489-b065-2b404238cebd"
      },
      "outputs": [
        {
          "output_type": "stream",
          "name": "stdout",
          "text": [
            "/content/drive/MyDrive/jetson-train-main/jetson-train-main\n"
          ]
        }
      ],
      "source": [
        "%cd /content/drive/MyDrive/jetson-train-main/jetson-train-main"
      ]
    },
    {
      "cell_type": "code",
      "execution_count": null,
      "metadata": {
        "id": "Rkq7YC55Mot_"
      },
      "outputs": [],
      "source": []
    },
    {
      "cell_type": "code",
      "execution_count": null,
      "metadata": {
        "colab": {
          "background_save": true,
          "base_uri": "https://localhost:8080/"
        },
        "id": "d_6B2-tK-ldr",
        "outputId": "d467bcdc-3089-4c69-a71a-74a2f6af7e1c"
      },
      "outputs": [
        {
          "output_type": "stream",
          "name": "stdout",
          "text": [
            "2023-08-01 20:42:03.933963: I tensorflow/core/platform/cpu_feature_guard.cc:182] This TensorFlow binary is optimized to use available CPU instructions in performance-critical operations.\n",
            "To enable the following instructions: AVX2 FMA, in other operations, rebuild TensorFlow with the appropriate compiler flags.\n",
            "2023-08-01 20:42:05.003026: W tensorflow/compiler/tf2tensorrt/utils/py_utils.cc:38] TF-TRT Warning: Could not find TensorRT\n",
            "2023-08-01 20:42:07 - Namespace(dataset_type='voc', datasets=['data/toys/'], balance_data=False, net='mb1-ssd', resolution=300, freeze_base_net=False, freeze_net=False, mb2_width_mult=1.0, base_net=None, pretrained_ssd='models/mobilenet-v1-ssd-mp-0_675.pth', resume='/content/drive/MyDrive/jetson-train-main/jetson-train-main/models/mobilenet-v1-ssd-mp-0_675/ssd-Epoch-154-Loss-0.8113.pth', lr=0.01, momentum=0.9, weight_decay=0.0005, gamma=0.1, base_net_lr=0.001, extra_layers_lr=None, scheduler='cosine', milestones='80,100', t_max=100, batch_size=2, num_epochs=200, num_workers=0, validation_epochs=1, validation_mean_ap=False, debug_steps=10, use_cuda=True, checkpoint_folder='models/mobilenet-v1-ssd-mp-0_675', log_level='info')\n",
            "2023-08-01 20:42:07 - model resolution 300x300\n",
            "2023-08-01 20:42:07 - SSDSpec(feature_map_size=19, shrinkage=16, box_sizes=SSDBoxSizes(min=60, max=105), aspect_ratios=[2, 3])\n",
            "2023-08-01 20:42:07 - SSDSpec(feature_map_size=10, shrinkage=32, box_sizes=SSDBoxSizes(min=105, max=150), aspect_ratios=[2, 3])\n",
            "2023-08-01 20:42:07 - SSDSpec(feature_map_size=5, shrinkage=64, box_sizes=SSDBoxSizes(min=150, max=195), aspect_ratios=[2, 3])\n",
            "2023-08-01 20:42:07 - SSDSpec(feature_map_size=3, shrinkage=100, box_sizes=SSDBoxSizes(min=195, max=240), aspect_ratios=[2, 3])\n",
            "2023-08-01 20:42:07 - SSDSpec(feature_map_size=2, shrinkage=150, box_sizes=SSDBoxSizes(min=240, max=285), aspect_ratios=[2, 3])\n",
            "2023-08-01 20:42:07 - SSDSpec(feature_map_size=1, shrinkage=300, box_sizes=SSDBoxSizes(min=285, max=330), aspect_ratios=[2, 3])\n",
            "2023-08-01 20:42:07 - Prepare training datasets.\n",
            "2023-08-01 20:42:07 - VOC Labels read from file: ('BACKGROUND', 'car')\n",
            "2023-08-01 20:42:07 - Stored labels into file models/mobilenet-v1-ssd-mp-0_675/labels.txt.\n",
            "2023-08-01 20:42:07 - Train dataset size: 96\n",
            "2023-08-01 20:42:07 - Prepare Validation datasets.\n",
            "2023-08-01 20:42:07 - VOC Labels read from file: ('BACKGROUND', 'car')\n",
            "2023-08-01 20:42:07 - Validation dataset size: 20\n",
            "2023-08-01 20:42:07 - Build network.\n",
            "2023-08-01 20:42:07 - Resume from the model /content/drive/MyDrive/jetson-train-main/jetson-train-main/models/mobilenet-v1-ssd-mp-0_675/ssd-Epoch-154-Loss-0.8113.pth\n",
            "2023-08-01 20:42:08 - Took 0.60 seconds to load the model.\n",
            "2023-08-01 20:42:08 - Learning rate: 0.01, Base net learning rate: 0.001, Extra Layers learning rate: 0.01.\n",
            "2023-08-01 20:42:08 - Uses CosineAnnealingLR scheduler.\n",
            "2023-08-01 20:42:08 - Start training from epoch 155.\n",
            "/usr/local/lib/python3.10/dist-packages/torch/nn/_reduction.py:42: UserWarning: size_average and reduce args will be deprecated, please use reduction='sum' instead.\n",
            "  warnings.warn(warning.format(ret))\n",
            "2023-08-01 20:42:50 - Epoch: 155, Step: 10/48, Avg Loss: 1.2041, Avg Regression Loss 0.2773, Avg Classification Loss: 0.9268\n",
            "2023-08-01 20:43:44 - Epoch: 155, Step: 20/48, Avg Loss: 1.5580, Avg Regression Loss 0.3399, Avg Classification Loss: 1.2181\n"
          ]
        }
      ],
      "source": [
        "!sudo python train_ssd.py --dataset-type=voc --data=data/toys/ --model-dir=models/mobilenet-v1-ssd-mp-0_675 --batch-size=2 --workers=0 --epochs=200 --resume=/content/drive/MyDrive/jetson-train-main/jetson-train-main/models/mobilenet-v1-ssd-mp-0_675/ssd-Epoch-154-Loss-0.8113.pth"
      ]
    },
    {
      "cell_type": "markdown",
      "metadata": {
        "id": "pYSIGdrKlkyb"
      },
      "source": []
    },
    {
      "cell_type": "code",
      "execution_count": null,
      "metadata": {
        "colab": {
          "base_uri": "https://localhost:8080/"
        },
        "id": "M8wkbsVn9un7",
        "outputId": "7b0530b6-7d26-4d91-ec3b-3cdb1febf933"
      },
      "outputs": [
        {
          "name": "stdout",
          "output_type": "stream",
          "text": [
            "\r\n",
            "Please enter model name: mb1-ssd-Epoch-9-Loss-2.206191062927246.pth\n",
            "Traceback (most recent call last):\n",
            "  File \"/content/drive/MyDrive/jetson-train-main/jetson-train-main/result.py\", line 6, in <module>\n",
            "    files = os.listdir(\"models/{}\".format(res))\n",
            "NotADirectoryError: [Errno 20] Not a directory: 'models/mb1-ssd-Epoch-9-Loss-2.206191062927246.pth'\n"
          ]
        }
      ],
      "source": [
        "!sudo python result.py"
      ]
    }
  ],
  "metadata": {
    "colab": {
      "provenance": [],
      "mount_file_id": "1ntaOpirIJZLlKTEevB1Fw_dRfq9rXUYA",
      "authorship_tag": "ABX9TyPEVfwdO+0nZUq8I2yR+adA",
      "include_colab_link": true
    },
    "kernelspec": {
      "display_name": "Python 3",
      "name": "python3"
    },
    "language_info": {
      "name": "python"
    }
  },
  "nbformat": 4,
  "nbformat_minor": 0
}